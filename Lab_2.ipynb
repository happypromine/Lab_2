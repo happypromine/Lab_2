{
 "cells": [
  {
   "cell_type": "code",
   "execution_count": 1,
   "id": "d2579664-89ba-4ea1-8efa-224703d71fa4",
   "metadata": {
    "tags": []
   },
   "outputs": [],
   "source": [
    "from deeppavlov import build_model\n",
    "from natasha import (\n",
    "    Segmenter,\n",
    "    \n",
    "    NewsEmbedding,\n",
    "    NewsMorphTagger,\n",
    "    NewsSyntaxParser,\n",
    "    \n",
    "    Doc\n",
    ")\n",
    "from natasha import NewsNERTagger"
   ]
  },
  {
   "cell_type": "code",
   "execution_count": 2,
   "id": "62aabacc-d359-4f0b-bb9b-c04c3ec12190",
   "metadata": {
    "tags": []
   },
   "outputs": [
    {
     "name": "stderr",
     "output_type": "stream",
     "text": [
      "2023-10-18 01:39:12.478 INFO in 'deeppavlov.download'['download'] at line 138: Skipped http://files.deeppavlov.ai/v1/ner/ner_ontonotes_bert_mult_torch_crf.tar.gz download because of matching hashes\n",
      "C:\\Users\\yarik\\anaconda3\\envs\\ForDeepPavlov\\lib\\site-packages\\tqdm\\auto.py:22: TqdmWarning: IProgress not found. Please update jupyter and ipywidgets. See https://ipywidgets.readthedocs.io/en/stable/user_install.html\n",
      "  from .autonotebook import tqdm as notebook_tqdm\n",
      "Some weights of the model checkpoint at bert-base-multilingual-cased were not used when initializing BertForTokenClassification: ['cls.predictions.transform.dense.weight', 'cls.predictions.transform.LayerNorm.weight', 'cls.seq_relationship.bias', 'cls.predictions.transform.LayerNorm.bias', 'cls.seq_relationship.weight', 'cls.predictions.decoder.weight', 'cls.predictions.transform.dense.bias', 'cls.predictions.bias']\n",
      "- This IS expected if you are initializing BertForTokenClassification from the checkpoint of a model trained on another task or with another architecture (e.g. initializing a BertForSequenceClassification model from a BertForPreTraining model).\n",
      "- This IS NOT expected if you are initializing BertForTokenClassification from the checkpoint of a model that you expect to be exactly identical (initializing a BertForSequenceClassification model from a BertForSequenceClassification model).\n",
      "Some weights of BertForTokenClassification were not initialized from the model checkpoint at bert-base-multilingual-cased and are newly initialized: ['classifier.bias', 'classifier.weight']\n",
      "You should probably TRAIN this model on a down-stream task to be able to use it for predictions and inference.\n",
      "2023-10-18 01:39:18.757 WARNING in 'deeppavlov.core.models.torch_model'['torch_model'] at line 96: Unable to place component TorchTransformersSequenceTagger on GPU, since no CUDA GPUs are available. Using CPU.\n"
     ]
    }
   ],
   "source": [
    "model = build_model('ner_ontonotes_bert_mult', install=True, download=True)"
   ]
  },
  {
   "cell_type": "code",
   "execution_count": 3,
   "id": "70bd54fe-107e-4663-ad34-8476fd5a4ac7",
   "metadata": {
    "tags": []
   },
   "outputs": [],
   "source": [
    "text='Александр Сергеевич Пушкин родился 6 июня 1799 года в Москве и происходил из старинного нетитулованного дворянского рода.'"
   ]
  },
  {
   "cell_type": "code",
   "execution_count": 4,
   "id": "d6347361-777e-414b-a9ca-c800d1e85357",
   "metadata": {
    "tags": []
   },
   "outputs": [
    {
     "name": "stderr",
     "output_type": "stream",
     "text": [
      "C:\\Users\\yarik\\anaconda3\\envs\\ForDeepPavlov\\lib\\site-packages\\torchcrf\\__init__.py:305: UserWarning: where received a uint8 condition tensor. This behavior is deprecated and will be removed in a future version of PyTorch. Use a boolean condition instead. (Triggered internally at C:\\actions-runner\\_work\\pytorch\\pytorch\\builder\\windows\\pytorch\\aten\\src\\ATen\\native\\TensorCompare.cpp:413.)\n",
      "  score = torch.where(mask[i].unsqueeze(1), next_score, score)\n"
     ]
    },
    {
     "data": {
      "text/plain": [
       "[[['Александр',\n",
       "   'Сергеевич',\n",
       "   'Пушкин',\n",
       "   'родился',\n",
       "   '6',\n",
       "   'июня',\n",
       "   '1799',\n",
       "   'года',\n",
       "   'в',\n",
       "   'Москве',\n",
       "   'и',\n",
       "   'происходил',\n",
       "   'из',\n",
       "   'старинного',\n",
       "   'нетитулованного',\n",
       "   'дворянского',\n",
       "   'рода',\n",
       "   '.'],\n",
       "  ['В',\n",
       "   '1831',\n",
       "   'г',\n",
       "   '.',\n",
       "   'Пушкин',\n",
       "   'обвенчался',\n",
       "   'с',\n",
       "   'Натальей',\n",
       "   'Гончаровой',\n",
       "   ',',\n",
       "   'с',\n",
       "   'которой',\n",
       "   'впоследствии',\n",
       "   'у',\n",
       "   'них',\n",
       "   'было',\n",
       "   'четверо',\n",
       "   'детей',\n",
       "   '.']],\n",
       " [['B-PERSON',\n",
       "   'I-PERSON',\n",
       "   'I-PERSON',\n",
       "   'O',\n",
       "   'B-DATE',\n",
       "   'I-DATE',\n",
       "   'I-DATE',\n",
       "   'I-DATE',\n",
       "   'O',\n",
       "   'B-GPE',\n",
       "   'O',\n",
       "   'O',\n",
       "   'O',\n",
       "   'O',\n",
       "   'O',\n",
       "   'O',\n",
       "   'O',\n",
       "   'O'],\n",
       "  ['O',\n",
       "   'B-DATE',\n",
       "   'I-DATE',\n",
       "   'I-DATE',\n",
       "   'B-PERSON',\n",
       "   'O',\n",
       "   'O',\n",
       "   'B-PERSON',\n",
       "   'I-PERSON',\n",
       "   'O',\n",
       "   'O',\n",
       "   'O',\n",
       "   'O',\n",
       "   'O',\n",
       "   'O',\n",
       "   'O',\n",
       "   'B-CARDINAL',\n",
       "   'O',\n",
       "   'O']]]"
      ]
     },
     "execution_count": 4,
     "metadata": {},
     "output_type": "execute_result"
    }
   ],
   "source": [
    "model([text, 'В 1831 г. Пушкин обвенчался с Натальей Гончаровой, с которой впоследствии у них было четверо детей.'])"
   ]
  },
  {
   "cell_type": "code",
   "execution_count": 5,
   "id": "4debf034-3e34-4c77-9978-4c468d947ba8",
   "metadata": {
    "tags": []
   },
   "outputs": [],
   "source": [
    "segmenter = Segmenter()\n",
    "emb = NewsEmbedding()\n",
    "morph_tagger = NewsMorphTagger(emb)\n",
    "syntax_parser = NewsSyntaxParser(emb)"
   ]
  },
  {
   "cell_type": "code",
   "execution_count": 6,
   "id": "f2f796aa-9623-4ae3-9c8d-293791a29ab1",
   "metadata": {
    "tags": []
   },
   "outputs": [],
   "source": [
    "doc = Doc(text)"
   ]
  },
  {
   "cell_type": "code",
   "execution_count": 7,
   "id": "0796cfa0-8dc1-4810-96f0-db7be3e0e7c1",
   "metadata": {
    "tags": []
   },
   "outputs": [],
   "source": [
    "doc.segment(segmenter)\n",
    "doc.tag_morph(morph_tagger)\n",
    "doc.parse_syntax(syntax_parser)"
   ]
  },
  {
   "cell_type": "code",
   "execution_count": 8,
   "id": "58216b89-efb9-4b29-91b7-3dff2eb8b23e",
   "metadata": {
    "tags": []
   },
   "outputs": [],
   "source": [
    "sent = doc.sents[0]"
   ]
  },
  {
   "cell_type": "code",
   "execution_count": 9,
   "id": "38db95f7-3094-4682-8dee-1df1d323ec6a",
   "metadata": {
    "tags": []
   },
   "outputs": [
    {
     "name": "stdout",
     "output_type": "stream",
     "text": [
      "           Александр PROPN|Animacy=Anim|Case=Nom|Gender=Masc|Number=Sing\n",
      "           Сергеевич PROPN|Animacy=Anim|Case=Nom|Gender=Masc|Number=Sing\n",
      "              Пушкин PROPN|Animacy=Anim|Case=Nom|Gender=Masc|Number=Sing\n",
      "             родился VERB|Aspect=Perf|Gender=Masc|Mood=Ind|Number=Sing|Tense=Past|VerbForm=Fin|Voice=Mid\n",
      "                   6 ADJ\n",
      "                июня NOUN|Animacy=Inan|Case=Gen|Gender=Masc|Number=Sing\n",
      "                1799 ADJ\n",
      "                года NOUN|Animacy=Inan|Case=Gen|Gender=Masc|Number=Sing\n",
      "                   в ADP\n",
      "              Москве PROPN|Animacy=Inan|Case=Loc|Gender=Fem|Number=Sing\n",
      "                   и CCONJ\n",
      "          происходил VERB|Aspect=Imp|Gender=Masc|Mood=Ind|Number=Sing|Tense=Past|VerbForm=Fin|Voice=Act\n",
      "                  из ADP\n",
      "          старинного ADJ|Case=Gen|Degree=Pos|Gender=Masc|Number=Sing\n",
      "     нетитулованного ADJ|Case=Gen|Degree=Pos|Gender=Masc|Number=Sing\n",
      "         дворянского ADJ|Case=Gen|Degree=Pos|Gender=Masc|Number=Sing\n",
      "                рода NOUN|Animacy=Inan|Case=Gen|Gender=Masc|Number=Sing\n",
      "                   . PUNCT\n"
     ]
    }
   ],
   "source": [
    "sent.morph.print()"
   ]
  },
  {
   "cell_type": "code",
   "execution_count": 10,
   "id": "b751dc4b-e665-4175-b992-86f5e022e825",
   "metadata": {
    "tags": []
   },
   "outputs": [
    {
     "name": "stdout",
     "output_type": "stream",
     "text": [
      "        ┌──► Александр       nsubj\n",
      "        │ ┌─ Сергеевич       \n",
      "        │ └► Пушкин          flat:name\n",
      "┌─┌─┌───└─┌─ родился         \n",
      "│ │ │ ┌─┌─└► 6               obl\n",
      "│ │ │ │ └──► июня            flat\n",
      "│ │ │ │   ┌► 1799            amod\n",
      "│ │ │ └──►└─ года            nmod\n",
      "│ │ │     ┌► в               case\n",
      "│ │ └────►└─ Москве          obl\n",
      "│ │       ┌► и               cc\n",
      "│ └──►┌───└─ происходил      conj\n",
      "│     │ ┌──► из              case\n",
      "│     │ │ ┌► старинного      amod\n",
      "│     └►└─└─ нетитулованного obl\n",
      "│     │   ┌► дворянского     amod\n",
      "│     └──►└─ рода            nmod\n",
      "└──────────► .               punct\n"
     ]
    }
   ],
   "source": [
    "sent.syntax.print()"
   ]
  },
  {
   "cell_type": "code",
   "execution_count": 11,
   "id": "4fc2cab2-9697-4d3e-af74-29d1eb945105",
   "metadata": {
    "tags": []
   },
   "outputs": [
    {
     "name": "stdout",
     "output_type": "stream",
     "text": [
      "Александр Сергеевич Пушкин родился 6 июня 1799 года в Москве и \n",
      "PER───────────────────────                            LOC───   \n",
      "происходил из старинного нетитулованного дворянского рода.\n"
     ]
    }
   ],
   "source": [
    "ner_tagger = NewsNERTagger(emb)\n",
    "doc.tag_ner(ner_tagger)\n",
    "doc.ner.print()"
   ]
  },
  {
   "cell_type": "code",
   "execution_count": null,
   "id": "593dbc1f-35bd-483e-ae3b-0a226e22c63d",
   "metadata": {},
   "outputs": [],
   "source": []
  }
 ],
 "metadata": {
  "kernelspec": {
   "display_name": "Python 3 (ipykernel)",
   "language": "python",
   "name": "python3"
  },
  "language_info": {
   "codemirror_mode": {
    "name": "ipython",
    "version": 3
   },
   "file_extension": ".py",
   "mimetype": "text/x-python",
   "name": "python",
   "nbconvert_exporter": "python",
   "pygments_lexer": "ipython3",
   "version": "3.7.16"
  }
 },
 "nbformat": 4,
 "nbformat_minor": 5
}
